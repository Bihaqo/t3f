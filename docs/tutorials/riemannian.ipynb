{
  "nbformat": 4,
  "nbformat_minor": 0,
  "metadata": {
    "kernelspec": {
      "display_name": "Python 3",
      "language": "python",
      "name": "python3"
    },
    "language_info": {
      "codemirror_mode": {
        "name": "ipython",
        "version": 3
      },
      "file_extension": ".py",
      "mimetype": "text/x-python",
      "name": "python",
      "nbconvert_exporter": "python",
      "pygments_lexer": "ipython3",
      "version": "3.6.5"
    },
    "colab": {
      "name": "riemannian.ipynb",
      "provenance": [],
      "collapsed_sections": []
    }
  },
  "cells": [
    {
      "cell_type": "markdown",
      "metadata": {
        "id": "gqwrcHFAVwgs",
        "colab_type": "text"
      },
      "source": [
        "# Riemannian optimization\n",
        "\n",
        "[Open](https://colab.research.google.com/github/Bihaqo/t3f/blob/develop/docs/tutorials/riemannian.ipynb) **this page in an interactive mode via Google Colaboratory.**"
      ]
    },
    {
      "cell_type": "markdown",
      "metadata": {
        "id": "oz-X6ZrGVwgu",
        "colab_type": "text"
      },
      "source": [
        "Riemannian optimization is a framework for solving optimization problems with a constraint that the solution belongs to a manifold. \n",
        "\n",
        "Let us consider the following problem. Given some TT tensor $A$ with large tt-ranks we would like to find a tensor $X$ (with small prescribed tt-ranks $r$) which is closest to $A$ (in the sense of Frobenius norm). Mathematically it can be written as follows:\n",
        "\\begin{equation*}\n",
        "\\begin{aligned}\n",
        "& \\underset{X}{\\text{minimize}} \n",
        "& & \\frac{1}{2}\\|X - A\\|_F^2 \\\\\n",
        "& \\text{subject to} \n",
        "& & \\text{tt_rank}(X) = r\n",
        "\\end{aligned}\n",
        "\\end{equation*}\n",
        "\n",
        "It is known that the set of TT tensors with elementwise fixed TT ranks forms a manifold. Thus we can solve this problem using the so called Riemannian gradient descent. Given some functional $F$ on a manifold $\\mathcal{M}$  it is defined as\n",
        "$$\\hat{x}_{k+1} = x_{k} - \\alpha P_{T_{x_k}\\mathcal{M}} \\nabla F(x_k),$$\n",
        "$$x_{k+1} = \\mathcal{R}(\\hat{x}_{k+1})$$\n",
        "with $P_{T_{x_k}} \\mathcal{M}$ being the projection onto the tangent space of $\\mathcal{M}$ at the point $x_k$ and $\\mathcal{R}$ being a retraction - an operation which projects points to the manifold, and $\\alpha$ is the learning rate.\n",
        "\n",
        "We can implement this in `t3f` using the `t3f.riemannian` module. As a retraction it is convenient to use the rounding method (`t3f.round`)."
      ]
    },
    {
      "cell_type": "code",
      "metadata": {
        "id": "ri9QCNEAVwgw",
        "colab_type": "code",
        "colab": {
          "base_uri": "https://localhost:8080/",
          "height": 34
        },
        "outputId": "efd8c64b-836e-449b-a385-dd3a63a5b4a2"
      },
      "source": [
        "# Import TF 2.\n",
        "%tensorflow_version 2.x\n",
        "import tensorflow as tf\n",
        "import numpy as np\n",
        "import matplotlib.pyplot as plt\n",
        "\n",
        "# Fix seed so that the results are reproducable.\n",
        "tf.random.set_seed(0)\n",
        "np.random.seed(0)\n",
        "\n",
        "try:\n",
        "    import t3f\n",
        "except ImportError:\n",
        "    # Install T3F if it's not already installed.\n",
        "    !git clone https://github.com/Bihaqo/t3f.git\n",
        "    !cd t3f; pip install .\n",
        "    import t3f"
      ],
      "execution_count": 1,
      "outputs": [
        {
          "output_type": "stream",
          "text": [
            "TensorFlow 2.x selected.\n"
          ],
          "name": "stdout"
        }
      ]
    },
    {
      "cell_type": "code",
      "metadata": {
        "id": "5Awp7wdwVwg3",
        "colab_type": "code",
        "colab": {}
      },
      "source": [
        "# Initialize A randomly, with large tt-ranks\n",
        "shape = 10 * [2]\n",
        "init_A = t3f.random_tensor(shape, tt_rank=16)\n",
        "A = t3f.get_variable('A', initializer=init_A, trainable=False)\n",
        "\n",
        "# Create an X variable.\n",
        "init_X = t3f.random_tensor(shape, tt_rank=2)\n",
        "X = t3f.get_variable('X', initializer=init_X)\n",
        "\n",
        "def step():\n",
        "  # Compute the gradient of the functional. Note that it is simply X - A.\n",
        "  gradF = X - A\n",
        "\n",
        "  # Let us compute the projection of the gradient onto the tangent space at X.\n",
        "  riemannian_grad = t3f.riemannian.project(gradF, X)\n",
        "\n",
        "  # Compute the update by subtracting the Riemannian gradient\n",
        "  # and retracting back to the manifold\n",
        "  alpha = 1.0\n",
        "  t3f.assign(X, t3f.round(X - alpha * riemannian_grad, max_tt_rank=2))\n",
        "\n",
        "  # Let us also compute the value of the functional\n",
        "  # to see if it is decreasing.\n",
        "  return 0.5 * t3f.frobenius_norm_squared(X - A)"
      ],
      "execution_count": 0,
      "outputs": []
    },
    {
      "cell_type": "code",
      "metadata": {
        "id": "us71Ch2hVwhN",
        "colab_type": "code",
        "colab": {
          "base_uri": "https://localhost:8080/",
          "height": 187
        },
        "outputId": "650521b0-ac72-4d26-8fef-a7659b320c81"
      },
      "source": [
        "log = []\n",
        "for i in range(100):\n",
        "    F = step()\n",
        "    if i % 10 == 0:\n",
        "        print(F)\n",
        "    log.append(F.numpy())"
      ],
      "execution_count": 3,
      "outputs": [
        {
          "output_type": "stream",
          "text": [
            "tf.Tensor(749.22894, shape=(), dtype=float32)\n",
            "tf.Tensor(569.4678, shape=(), dtype=float32)\n",
            "tf.Tensor(502.00604, shape=(), dtype=float32)\n",
            "tf.Tensor(490.0112, shape=(), dtype=float32)\n",
            "tf.Tensor(489.01282, shape=(), dtype=float32)\n",
            "tf.Tensor(488.71234, shape=(), dtype=float32)\n",
            "tf.Tensor(488.56543, shape=(), dtype=float32)\n",
            "tf.Tensor(488.47928, shape=(), dtype=float32)\n",
            "tf.Tensor(488.4239, shape=(), dtype=float32)\n",
            "tf.Tensor(488.38593, shape=(), dtype=float32)\n"
          ],
          "name": "stdout"
        }
      ]
    },
    {
      "cell_type": "markdown",
      "metadata": {
        "id": "i2QmXYqeVwhQ",
        "colab_type": "text"
      },
      "source": [
        "It is intructive to compare the obtained result with the quasioptimum delivered by the TT-round procedure. "
      ]
    },
    {
      "cell_type": "code",
      "metadata": {
        "id": "FgpVf8qRVwhR",
        "colab_type": "code",
        "colab": {
          "base_uri": "https://localhost:8080/",
          "height": 34
        },
        "outputId": "0dce2840-5aca-45d5-c5c1-e34651f00043"
      },
      "source": [
        "quasi_sol = t3f.round(A, max_tt_rank=2)\n",
        "\n",
        "val = 0.5 * t3f.frobenius_norm_squared(quasi_sol - A)\n",
        "print(val)"
      ],
      "execution_count": 4,
      "outputs": [
        {
          "output_type": "stream",
          "text": [
            "tf.Tensor(518.3871, shape=(), dtype=float32)\n"
          ],
          "name": "stdout"
        }
      ]
    },
    {
      "cell_type": "markdown",
      "metadata": {
        "id": "Dj5uljryVwhU",
        "colab_type": "text"
      },
      "source": [
        "We see that the value is slightly bigger than the exact minimum, but TT-round is faster and cheaper to compute, so it is often used in practice."
      ]
    },
    {
      "cell_type": "code",
      "metadata": {
        "id": "xosyMEx1VwhV",
        "colab_type": "code",
        "colab": {
          "base_uri": "https://localhost:8080/",
          "height": 296
        },
        "outputId": "7d49ca8b-1f5a-458f-8abf-1e867e9deb28"
      },
      "source": [
        "plt.semilogy(log, label='Riemannian gradient descent')\n",
        "plt.axhline(y=val.numpy(), lw=1, ls='--', color='gray', label='TT-round(A)')\n",
        "plt.xlabel('Iteration')\n",
        "plt.ylabel('Value of the functional')\n",
        "plt.legend()"
      ],
      "execution_count": 5,
      "outputs": [
        {
          "output_type": "execute_result",
          "data": {
            "text/plain": [
              "<matplotlib.legend.Legend at 0x7f4102dbab70>"
            ]
          },
          "metadata": {
            "tags": []
          },
          "execution_count": 5
        },
        {
          "output_type": "display_data",
          "data": {
            "image/png": "[encoded data removed]",
            "text/plain": [
              "<Figure size 432x288 with 1 Axes>"
            ]
          },
          "metadata": {
            "tags": []
          }
        }
      ]
    }
  ]
}