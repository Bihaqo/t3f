{
  "nbformat": 4,
  "nbformat_minor": 0,
  "metadata": {
    "kernelspec": {
      "display_name": "Python 3",
      "language": "python",
      "name": "python3"
    },
    "language_info": {
      "codemirror_mode": {
        "name": "ipython",
        "version": 3
      },
      "file_extension": ".py",
      "mimetype": "text/x-python",
      "name": "python",
      "nbconvert_exporter": "python",
      "pygments_lexer": "ipython3",
      "version": "3.6.5"
    },
    "colab": {
      "name": "tensor_completion.ipynb",
      "provenance": [],
      "collapsed_sections": []
    }
  },
  "cells": [
    {
      "cell_type": "markdown",
      "metadata": {
        "id": "c644IyT2b6fN",
        "colab_type": "text"
      },
      "source": [
        "# Tensor completion (example of minimizing a loss w.r.t. TT-tensor)\n",
        "\n",
        "[Open](https://colab.research.google.com/github/Bihaqo/t3f/blob/develop/docs/tutorials/tensor_completion.ipynb) **this page in an interactive mode via Google Colaboratory.**\n",
        "\n",
        "In this example we will see how can we do tensor completion with t3f, i.e. observe a fraction of values in a tensor and recover the rest by assuming that the original tensor has low TT-rank.\n",
        "Mathematically it means that we have a binary mask $P$ and a ground truth tensor $A$, but we observe only a noisy and sparsified version of $A$: $P \\odot (\\hat{A})$, where $\\odot$ is the elementwise product (applying the binary mask) and $\\hat{A} = A + \\text{noise}$. In this case our task reduces to the following optimization problem:\n",
        "\n",
        "$$\n",
        "\\begin{aligned}\n",
        "& \\underset{X}{\\text{minimize}} \n",
        "& & \\|P \\odot (X - \\hat{A})\\|_F^2 \\\\\n",
        "& \\text{subject to} \n",
        "& & \\text{tt_rank}(X) \\leq r_0\n",
        "\\end{aligned}\n",
        "$$"
      ]
    },
    {
      "cell_type": "code",
      "metadata": {
        "id": "XKpnAlb2b6fP",
        "colab_type": "code",
        "colab": {
          "base_uri": "https://localhost:8080/",
          "height": 34
        },
        "outputId": "53ef39b2-9fc4-474a-c7fe-4706cea33e09"
      },
      "source": [
        "import numpy as np\n",
        "import matplotlib.pyplot as plt\n",
        "# Import TF 2.\n",
        "%tensorflow_version 2.x\n",
        "import tensorflow as tf\n",
        "\n",
        "# Fix seed so that the results are reproducable.\n",
        "tf.random.set_seed(0)\n",
        "np.random.seed(0)\n",
        "\n",
        "try:\n",
        "    import t3f\n",
        "except ImportError:\n",
        "    # Install T3F if it's not already installed.\n",
        "    !git clone https://github.com/Bihaqo/t3f.git\n",
        "    !cd t3f; pip install .\n",
        "    import t3f"
      ],
      "execution_count": 1,
      "outputs": [
        {
          "output_type": "stream",
          "text": [
            "TensorFlow 2.x selected.\n"
          ],
          "name": "stdout"
        }
      ]
    },
    {
      "cell_type": "markdown",
      "metadata": {
        "id": "jS_8PA1ub6fS",
        "colab_type": "text"
      },
      "source": [
        "**Generating problem instance**\n",
        "\n",
        "Lets generate a random matrix $A$, noise, and mask $P$."
      ]
    },
    {
      "cell_type": "code",
      "metadata": {
        "id": "kTe5tB3Kb6fT",
        "colab_type": "code",
        "colab": {}
      },
      "source": [
        "shape = (3, 4, 4, 5, 7, 5)\n",
        "# Generate ground truth tensor A. To make sure that it has low TT-rank,\n",
        "# let's generate a random tt-rank 5 tensor and apply t3f.full to it to convert to actual tensor.\n",
        "ground_truth = t3f.full(t3f.random_tensor(shape, tt_rank=5))\n",
        "# Make a (non trainable) variable out of ground truth. Otherwise, it will be randomly regenerated on each sess.run.\n",
        "ground_truth = tf.Variable(ground_truth, trainable=False)\n",
        "noise = 1e-2 * tf.Variable(tf.random.normal(shape), trainable=False)\n",
        "noisy_ground_truth = ground_truth + noise\n",
        "# Observe 25% of the tensor values.\n",
        "sparsity_mask = tf.cast(tf.random.uniform(shape) <= 0.25, tf.float32)\n",
        "sparsity_mask = tf.Variable(sparsity_mask, trainable=False)\n",
        "sparse_observation = noisy_ground_truth * sparsity_mask"
      ],
      "execution_count": 0,
      "outputs": []
    },
    {
      "cell_type": "markdown",
      "metadata": {
        "id": "VIBpNWFzb6fX",
        "colab_type": "text"
      },
      "source": [
        "**Initialize the variable and compute the loss**"
      ]
    },
    {
      "cell_type": "code",
      "metadata": {
        "id": "C4h03v5Kb6fY",
        "colab_type": "code",
        "colab": {}
      },
      "source": [
        "observed_total = tf.reduce_sum(sparsity_mask)\n",
        "total = np.prod(shape)\n",
        "initialization = t3f.random_tensor(shape, tt_rank=5)\n",
        "estimated = t3f.get_variable('estimated', initializer=initialization)"
      ],
      "execution_count": 0,
      "outputs": []
    },
    {
      "cell_type": "markdown",
      "metadata": {
        "id": "8QWYA3a7b6fb",
        "colab_type": "text"
      },
      "source": [
        "SGD optimization\n",
        "-------------------------\n",
        "The simplest way to solve the optimization problem is Stochastic Gradient Descent: let TensorFlow differentiate the loss w.r.t. the factors (cores) of the TensorTrain decomposition of the estimated tensor and minimize the loss with your favourite SGD variation."
      ]
    },
    {
      "cell_type": "code",
      "metadata": {
        "id": "6JyoT6uVb6fc",
        "colab_type": "code",
        "colab": {}
      },
      "source": [
        "optimizer = tf.keras.optimizers.Adam(learning_rate=0.01)\n",
        "\n",
        "def step():\n",
        "  with tf.GradientTape() as tape:\n",
        "    # Loss is MSE between the estimated and ground-truth tensor as computed in the observed cells.\n",
        "    loss = 1.0 / observed_total * tf.reduce_sum((sparsity_mask * t3f.full(estimated) - sparse_observation)**2)\n",
        "\n",
        "  gradients = tape.gradient(loss, estimated.tt_cores)\n",
        "  optimizer.apply_gradients(zip(gradients, estimated.tt_cores))\n",
        "\n",
        "  # Test loss is MSE between the estimated tensor and full (and not noisy) ground-truth tensor A.\n",
        "  test_loss = 1.0 / total * tf.reduce_sum((t3f.full(estimated) - ground_truth)**2)\n",
        "  return loss, test_loss"
      ],
      "execution_count": 0,
      "outputs": []
    },
    {
      "cell_type": "code",
      "metadata": {
        "id": "e6VWyInAb6ff",
        "colab_type": "code",
        "colab": {
          "base_uri": "https://localhost:8080/",
          "height": 187
        },
        "outputId": "9ff1647e-2e1e-46be-d0c0-fcc70e25f632"
      },
      "source": [
        "train_loss_hist = []\n",
        "test_loss_hist = []\n",
        "for i in range(5000):\n",
        "  tr_loss_v, test_loss_v = step()\n",
        "  tr_loss_v, test_loss_v = tr_loss_v.numpy(), test_loss_v.numpy()\n",
        "  train_loss_hist.append(tr_loss_v)\n",
        "  test_loss_hist.append(test_loss_v)\n",
        "  if i % 1000 == 0:\n",
        "    print(i, tr_loss_v, test_loss_v)"
      ],
      "execution_count": 7,
      "outputs": [
        {
          "output_type": "stream",
          "text": [
            "0 1.768507 1.6856995\n",
            "1000 0.0011041266 0.001477238\n",
            "2000 9.759675e-05 3.4615714e-05\n",
            "3000 8.749525e-05 2.0825255e-05\n",
            "4000 9.1277245e-05 2.188003e-05\n",
            "5000 9.666496e-05 3.5304438e-05\n",
            "6000 8.7534434e-05 2.1069698e-05\n",
            "7000 8.753277e-05 2.1103975e-05\n",
            "8000 9.058935e-05 2.6075113e-05\n",
            "9000 8.8796776e-05 2.2456348e-05\n"
          ],
          "name": "stdout"
        }
      ]
    },
    {
      "cell_type": "code",
      "metadata": {
        "id": "0lPHsSveb6fj",
        "colab_type": "code",
        "colab": {
          "base_uri": "https://localhost:8080/",
          "height": 316
        },
        "outputId": "60f23a2d-3961-477a-d7bf-6451f8a523af"
      },
      "source": [
        "plt.loglog(train_loss_hist, label='train')\n",
        "plt.loglog(test_loss_hist, label='test')\n",
        "plt.xlabel('Iteration')\n",
        "plt.ylabel('MSE Loss value')\n",
        "plt.title('SGD completion')\n",
        "plt.legend()\n"
      ],
      "execution_count": 8,
      "outputs": [
        {
          "output_type": "execute_result",
          "data": {
            "text/plain": [
              "<matplotlib.legend.Legend at 0x7f242ae44d68>"
            ]
          },
          "metadata": {
            "tags": []
          },
          "execution_count": 8
        },
        {
          "output_type": "display_data",
          "data": {
            "image/png": "[encoded data removed]",
            "text/plain": [
              "<Figure size 432x288 with 1 Axes>"
            ]
          },
          "metadata": {
            "tags": []
          }
        }
      ]
    },
    {
      "cell_type": "markdown",
      "metadata": {
        "id": "Ouhl6kvBb6fn",
        "colab_type": "text"
      },
      "source": [
        "Speeding it up\n",
        "--------------------\n",
        "The simple solution we have so far assumes that loss is computed by materializing the full estimated tensor and then zeroing out unobserved elements. If the tensors are really large and the fraction of observerd values is small (e.g. less than 1%), it may be much more efficient to directly work only with the observed elements."
      ]
    },
    {
      "cell_type": "code",
      "metadata": {
        "id": "88t0Auu3b6fo",
        "colab_type": "code",
        "colab": {}
      },
      "source": [
        "shape = (10, 10, 10, 10, 10, 10, 10)\n",
        "\n",
        "total_observed = np.prod(shape)\n",
        "# Since now the tensor is too large to work with explicitly,\n",
        "# we don't want to generate binary mask,\n",
        "# but we would rather generate indecies of observed cells.\n",
        "\n",
        "ratio = 0.001\n",
        "\n",
        "# Let us simply randomly pick some indecies (it may happen\n",
        "# that we will get duplicates but probability of that\n",
        "# is 10^(-14) so lets not bother for now).\n",
        "\n",
        "num_observed = int(ratio * total_observed)\n",
        "observation_idx = np.random.randint(0, 10, size=(num_observed, len(shape)))\n",
        "# and let us generate some values of the tensor to be approximated\n",
        "observations = np.random.randn(num_observed)\n"
      ],
      "execution_count": 0,
      "outputs": []
    },
    {
      "cell_type": "code",
      "metadata": {
        "id": "5e3CGCQGb6fr",
        "colab_type": "code",
        "colab": {}
      },
      "source": [
        "# Our strategy is to feed the observation_idx\n",
        "# into the tensor in the Tensor Train format and compute MSE between\n",
        "# the obtained values and the desired values"
      ],
      "execution_count": 0,
      "outputs": []
    },
    {
      "cell_type": "code",
      "metadata": {
        "id": "o_nTVpYpb6fu",
        "colab_type": "code",
        "colab": {}
      },
      "source": [
        "initialization = t3f.random_tensor(shape, tt_rank=16)\n",
        "estimated = t3f.get_variable('estimated', initializer=initialization)"
      ],
      "execution_count": 0,
      "outputs": []
    },
    {
      "cell_type": "code",
      "metadata": {
        "id": "y9vjUa3Xb6fx",
        "colab_type": "code",
        "colab": {}
      },
      "source": [
        "# To collect the values of a TT tensor (withour forming the full tensor)\n",
        "# we use the function t3f.gather_nd"
      ],
      "execution_count": 0,
      "outputs": []
    },
    {
      "cell_type": "code",
      "metadata": {
        "id": "U1-IJdByb6fz",
        "colab_type": "code",
        "colab": {}
      },
      "source": [
        "def loss():\n",
        "  estimated_vals = t3f.gather_nd(estimated, observation_idx)\n",
        "  return tf.reduce_mean((estimated_vals - observations) ** 2)"
      ],
      "execution_count": 0,
      "outputs": []
    },
    {
      "cell_type": "code",
      "metadata": {
        "id": "Lg_-VK80b6f3",
        "colab_type": "code",
        "colab": {}
      },
      "source": [
        "optimizer = tf.keras.optimizers.Adam(learning_rate=0.01)\n",
        "def step():\n",
        "  with tf.GradientTape() as tape:\n",
        "    loss_value = loss()\n",
        "  gradients = tape.gradient(loss_value, estimated.tt_cores)\n",
        "  optimizer.apply_gradients(zip(gradients, estimated.tt_cores))\n",
        "  return loss_value"
      ],
      "execution_count": 0,
      "outputs": []
    },
    {
      "cell_type": "markdown",
      "metadata": {
        "id": "A7b8xOBSgDc7",
        "colab_type": "text"
      },
      "source": [
        "#### Compiling the function to additionally speed things up\n"
      ]
    },
    {
      "cell_type": "code",
      "metadata": {
        "id": "33RRJ_pogCJ7",
        "colab_type": "code",
        "colab": {}
      },
      "source": [
        "# In TF eager mode you're supposed to first implement and debug\n",
        "# a function, and then compile it to make it faster.\n",
        "faster_step = tf.function(step)"
      ],
      "execution_count": 0,
      "outputs": []
    },
    {
      "cell_type": "code",
      "metadata": {
        "id": "ua3MnN_Yb6f6",
        "colab_type": "code",
        "colab": {
          "base_uri": "https://localhost:8080/",
          "height": 357
        },
        "outputId": "c1634c70-7d26-45c1-85a7-7128dac42731"
      },
      "source": [
        "loss_hist = []\n",
        "for i in range(2000):\n",
        "    loss_v = faster_step().numpy()\n",
        "    loss_hist.append(loss_v)\n",
        "    if i % 100 == 0:\n",
        "        print(i, loss_v)"
      ],
      "execution_count": 16,
      "outputs": [
        {
          "output_type": "stream",
          "text": [
            "0 2.513642\n",
            "100 0.09261158\n",
            "200 0.016660467\n",
            "300 0.0062909224\n",
            "400 0.0030982601\n",
            "500 0.0018596936\n",
            "600 0.0012290174\n",
            "700 0.00086869544\n",
            "800 0.00065623457\n",
            "900 0.00052747165\n",
            "1000 0.00044029654\n",
            "1100 0.00038606362\n",
            "1200 0.00033268757\n",
            "1300 0.0002910529\n",
            "1400 0.00028836995\n",
            "1500 0.00023541097\n",
            "1600 0.00022489333\n",
            "1700 0.00022316887\n",
            "1800 0.00039261775\n",
            "1900 0.0003216249\n"
          ],
          "name": "stdout"
        }
      ]
    },
    {
      "cell_type": "code",
      "metadata": {
        "id": "q5hrWqCTb6gA",
        "colab_type": "code",
        "colab": {
          "base_uri": "https://localhost:8080/",
          "height": 333
        },
        "outputId": "f0b4326c-9413-4b5b-cf71-c2fdae9325b5"
      },
      "source": [
        "plt.loglog(loss_hist)\n",
        "plt.xlabel('Iteration')\n",
        "plt.ylabel('MSE Loss value')\n",
        "plt.title('smarter SGD completion')\n",
        "plt.legend()"
      ],
      "execution_count": 17,
      "outputs": [
        {
          "output_type": "stream",
          "text": [
            "No handles with labels found to put in legend.\n"
          ],
          "name": "stderr"
        },
        {
          "output_type": "execute_result",
          "data": {
            "text/plain": [
              "<matplotlib.legend.Legend at 0x7f242a629fd0>"
            ]
          },
          "metadata": {
            "tags": []
          },
          "execution_count": 17
        },
        {
          "output_type": "display_data",
          "data": {
            "image/png": "[encoded data removed]",
            "text/plain": [
              "<Figure size 432x288 with 1 Axes>"
            ]
          },
          "metadata": {
            "tags": []
          }
        }
      ]
    },
    {
      "cell_type": "code",
      "metadata": {
        "id": "VWVwnhc7b6gD",
        "colab_type": "code",
        "colab": {
          "base_uri": "https://localhost:8080/",
          "height": 68
        },
        "outputId": "b9e46705-3e7e-40db-bc85-ac2087538ed1"
      },
      "source": [
        "print(t3f.gather_nd(estimated, observation_idx))"
      ],
      "execution_count": 18,
      "outputs": [
        {
          "output_type": "stream",
          "text": [
            "tf.Tensor(\n",
            "[-0.12139133 -1.3777294  -0.5469675  ... -0.00776806  0.23622975\n",
            "  0.7571926 ], shape=(10000,), dtype=float32)\n"
          ],
          "name": "stdout"
        }
      ]
    },
    {
      "cell_type": "code",
      "metadata": {
        "id": "5bvmcc-Jb6gI",
        "colab_type": "code",
        "colab": {
          "base_uri": "https://localhost:8080/",
          "height": 51
        },
        "outputId": "569577a1-3714-4ca8-ba2f-24e2ddcbd061"
      },
      "source": [
        "print(observations)"
      ],
      "execution_count": 19,
      "outputs": [
        {
          "output_type": "stream",
          "text": [
            "[-1.27225139e-01 -1.37794858e+00 -5.42469328e-01 ... -1.30643336e-03\n",
            "  2.35629296e-01  7.53320726e-01]\n"
          ],
          "name": "stdout"
        }
      ]
    }
  ]
}